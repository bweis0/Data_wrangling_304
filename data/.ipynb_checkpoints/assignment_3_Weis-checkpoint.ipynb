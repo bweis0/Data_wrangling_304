{
 "cells": [
  {
   "cell_type": "code",
   "execution_count": 1,
   "id": "9dc0d06a-b620-4946-aa5b-696cf5221a86",
   "metadata": {},
   "outputs": [],
   "source": [
    "import os\n",
    "import sqlite3\n",
    "import pandas as pd\n",
    "from bs4 import BeautifulSoup\n",
    "import zipfile"
   ]
  },
  {
   "cell_type": "code",
   "execution_count": 2,
   "id": "3ad1230a-512a-4219-bdaa-6a531b76c4fc",
   "metadata": {},
   "outputs": [],
   "source": [
    "base_dir = r'C:\\Users\\Weis\\Desktop\\Courses\\ephy_data304\\data'"
   ]
  },
  {
   "cell_type": "code",
   "execution_count": 3,
   "id": "bdb4418c-990e-484f-8787-9d4125c53299",
   "metadata": {},
   "outputs": [],
   "source": [
    "zip_path = os.path.join(base_dir, 'assignment_1', 'raw', 'downloaded_class_submissions.zip')\n",
    "extracted_dir = os.path.join(base_dir, 'assignment_1', 'raw', 'downloaded_class_submissions')"
   ]
  },
  {
   "cell_type": "code",
   "execution_count": 4,
   "id": "7f353c2d-4a46-4d3d-9fb4-2e6b913e7e3c",
   "metadata": {},
   "outputs": [],
   "source": [
    "if not os.path.exists(extracted_dir):\n",
    "    with zipfile.ZipFile(zip_path, 'r') as zip_ref:\n",
    "        zip_ref.extractall(extracted_dir)"
   ]
  },
  {
   "cell_type": "code",
   "execution_count": 5,
   "id": "80e58032-daa3-48d5-b749-b9fa0cff1eae",
   "metadata": {},
   "outputs": [],
   "source": [
    "nested_folder = os.path.join(extracted_dir, 'downloaded_class_submissions')"
   ]
  },
  {
   "cell_type": "code",
   "execution_count": 6,
   "id": "76363502-1dd5-4534-b652-0ddcd70d28fa",
   "metadata": {},
   "outputs": [],
   "source": [
    "html_files = []\n",
    "for root, dirs, files in os.walk(nested_folder):\n",
    "    for file in files:\n",
    "        if file.endswith('.html'):\n",
    "            html_files.append(os.path.join(root, file))"
   ]
  },
  {
   "cell_type": "code",
   "execution_count": 7,
   "id": "f9a8dbdd-5b79-4c77-a259-369375779cea",
   "metadata": {},
   "outputs": [],
   "source": [
    "db_path = os.path.join(base_dir, 'assignment_3', 'altered', 'parsed_bios.sqlite')"
   ]
  },
  {
   "cell_type": "code",
   "execution_count": 8,
   "id": "8c64c233-aa34-46bc-aa42-7c3a94344f38",
   "metadata": {},
   "outputs": [],
   "source": [
    "conn = sqlite3.connect(db_path)\n",
    "cursor = conn.cursor()\n",
    "\n",
    "cursor.execute('''CREATE TABLE IF NOT EXISTS names (name_id INTEGER PRIMARY KEY, name TEXT UNIQUE)''')\n",
    "cursor.execute('''CREATE TABLE IF NOT EXISTS favorites (favorite_id INTEGER PRIMARY KEY, name_id INTEGER, category TEXT, favorite TEXT, \n",
    "                  FOREIGN KEY(name_id) REFERENCES names(name_id))''')\n",
    "\n",
    "conn.commit()"
   ]
  },
  {
   "cell_type": "code",
   "execution_count": 10,
   "id": "b4c8b634-9f26-48f0-9386-caa5b000da0c",
   "metadata": {},
   "outputs": [
    {
     "name": "stdout",
     "output_type": "stream",
     "text": [
      "\n",
      "Names Table: [(1, 'Abhi Purohit'), (2, 'Brady Sengkhounmany'), (3, 'Elias Brown'), (4, 'Greta Goss'), (5, 'Jay Naidu'), (6, 'Kebba Leigh'), (7, 'Mateo Marneau'), (8, 'Nathan Ebbs'), (9, 'Sage Gray'), (10, 'Vu Mai'), (11, 'Brandon Weis')]\n",
      "\n",
      "Favorites Table: [(1, 1, 'Ice Cream', 'Cookie Dough'), (2, 1, 'Artist', 'Travis Scott'), (3, 1, 'Pass time', 'Watching sports (basketball, football, cricket)'), (4, 2, 'Food', 'Sushi'), (5, 2, 'Sport', 'Baseball'), (6, 2, 'Hobby', 'Golf'), (7, 3, 'Ice Cream', 'Blue Raspberry'), (8, 3, 'Sport', 'Swimming'), (9, 3, 'Pass time', 'Gambling'), (10, 4, 'Ice Cream', 'Cookies and Cream'), (11, 4, 'Sport', 'Lifting'), (12, 4, 'Pass time', 'Baking'), (13, 5, 'Ice Cream', 'Cookie Dough'), (14, 5, 'Sport', 'Swimming'), (15, 5, 'Pass time', 'Golfing'), (16, 6, 'Ice Cream', 'Oreo'), (17, 6, 'Sport', 'Soccer'), (18, 6, 'Pass time', 'Reading'), (19, 7, 'Show', 'Ozark'), (20, 7, 'Sport', 'Golf'), (21, 7, 'Artist', 'Travis Scott'), (22, 8, 'Ice Cream', 'Butter Pecan'), (23, 8, 'Sport', 'Basketball'), (24, 8, 'Pass time', 'Hiking'), (25, 9, 'Ice Cream', 'Butterscotch'), (26, 9, 'Sport', 'Rock climbing'), (27, 9, 'Pass time', 'Board Games!'), (28, 10, 'Movie genre', 'Sciencetific/ Fiction'), (29, 10, 'Color', 'Black'), (30, 10, 'Cuisine', 'Japanese'), (31, 11, 'Ice Cream', 'Strawberry'), (32, 11, 'Sport', 'Football'), (33, 11, 'Pass time', 'Games'), (34, 1, 'Ice Cream', 'Cookie Dough'), (35, 1, 'Artist', 'Travis Scott'), (36, 1, 'Pass time', 'Watching sports (basketball, football, cricket)'), (37, 2, 'Food', 'Sushi'), (38, 2, 'Sport', 'Baseball'), (39, 2, 'Hobby', 'Golf'), (40, 3, 'Ice Cream', 'Blue Raspberry'), (41, 3, 'Sport', 'Swimming'), (42, 3, 'Pass time', 'Gambling'), (43, 4, 'Ice Cream', 'Cookies and Cream'), (44, 4, 'Sport', 'Lifting'), (45, 4, 'Pass time', 'Baking'), (46, 5, 'Ice Cream', 'Cookie Dough'), (47, 5, 'Sport', 'Swimming'), (48, 5, 'Pass time', 'Golfing'), (49, 6, 'Ice Cream', 'Oreo'), (50, 6, 'Sport', 'Soccer'), (51, 6, 'Pass time', 'Reading'), (52, 7, 'Show', 'Ozark'), (53, 7, 'Sport', 'Golf'), (54, 7, 'Artist', 'Travis Scott'), (55, 8, 'Ice Cream', 'Butter Pecan'), (56, 8, 'Sport', 'Basketball'), (57, 8, 'Pass time', 'Hiking'), (58, 9, 'Ice Cream', 'Butterscotch'), (59, 9, 'Sport', 'Rock climbing'), (60, 9, 'Pass time', 'Board Games!'), (61, 10, 'Movie genre', 'Sciencetific/ Fiction'), (62, 10, 'Color', 'Black'), (63, 10, 'Cuisine', 'Japanese'), (64, 11, 'Ice Cream', 'Strawberry'), (65, 11, 'Sport', 'Football'), (66, 11, 'Pass time', 'Games'), (67, 1, 'Ice Cream', 'Cookie Dough'), (68, 1, 'Artist', 'Travis Scott'), (69, 1, 'Pass time', 'Watching sports (basketball, football, cricket)'), (70, 2, 'Food', 'Sushi'), (71, 2, 'Sport', 'Baseball'), (72, 2, 'Hobby', 'Golf'), (73, 3, 'Ice Cream', 'Blue Raspberry'), (74, 3, 'Sport', 'Swimming'), (75, 3, 'Pass time', 'Gambling'), (76, 4, 'Ice Cream', 'Cookies and Cream'), (77, 4, 'Sport', 'Lifting'), (78, 4, 'Pass time', 'Baking'), (79, 5, 'Ice Cream', 'Cookie Dough'), (80, 5, 'Sport', 'Swimming'), (81, 5, 'Pass time', 'Golfing'), (82, 6, 'Ice Cream', 'Oreo'), (83, 6, 'Sport', 'Soccer'), (84, 6, 'Pass time', 'Reading'), (85, 7, 'Show', 'Ozark'), (86, 7, 'Sport', 'Golf'), (87, 7, 'Artist', 'Travis Scott'), (88, 8, 'Ice Cream', 'Butter Pecan'), (89, 8, 'Sport', 'Basketball'), (90, 8, 'Pass time', 'Hiking'), (91, 9, 'Ice Cream', 'Butterscotch'), (92, 9, 'Sport', 'Rock climbing'), (93, 9, 'Pass time', 'Board Games!'), (94, 10, 'Movie genre', 'Sciencetific/ Fiction'), (95, 10, 'Color', 'Black'), (96, 10, 'Cuisine', 'Japanese'), (97, 11, 'Ice Cream', 'Strawberry'), (98, 11, 'Sport', 'Football'), (99, 11, 'Pass time', 'Games'), (100, 1, 'Ice Cream', 'Cookie Dough'), (101, 1, 'Artist', 'Travis Scott'), (102, 1, 'Pass time', 'Watching sports (basketball, football, cricket)'), (103, 2, 'Food', 'Sushi'), (104, 2, 'Sport', 'Baseball'), (105, 2, 'Hobby', 'Golf'), (106, 3, 'Ice Cream', 'Blue Raspberry'), (107, 3, 'Sport', 'Swimming'), (108, 3, 'Pass time', 'Gambling'), (109, 4, 'Ice Cream', 'Cookies and Cream'), (110, 4, 'Sport', 'Lifting'), (111, 4, 'Pass time', 'Baking'), (112, 5, 'Ice Cream', 'Cookie Dough'), (113, 5, 'Sport', 'Swimming'), (114, 5, 'Pass time', 'Golfing'), (115, 6, 'Ice Cream', 'Oreo'), (116, 6, 'Sport', 'Soccer'), (117, 6, 'Pass time', 'Reading'), (118, 7, 'Show', 'Ozark'), (119, 7, 'Sport', 'Golf'), (120, 7, 'Artist', 'Travis Scott'), (121, 8, 'Ice Cream', 'Butter Pecan'), (122, 8, 'Sport', 'Basketball'), (123, 8, 'Pass time', 'Hiking'), (124, 9, 'Ice Cream', 'Butterscotch'), (125, 9, 'Sport', 'Rock climbing'), (126, 9, 'Pass time', 'Board Games!'), (127, 10, 'Movie genre', 'Sciencetific/ Fiction'), (128, 10, 'Color', 'Black'), (129, 10, 'Cuisine', 'Japanese'), (130, 11, 'Ice Cream', 'Strawberry'), (131, 11, 'Sport', 'Football'), (132, 11, 'Pass time', 'Games')]\n"
     ]
    }
   ],
   "source": [
    "for file_name in html_files:\n",
    "    html_path = os.path.join(extracted_dir, file_name)\n",
    "\n",
    "    # read HTML\n",
    "    with open(html_path, 'r', encoding='utf-8') as html_file:\n",
    "        html_content = html_file.read()\n",
    "\n",
    "    # parse HTML\n",
    "    soup = BeautifulSoup(html_content, 'html.parser')\n",
    "\n",
    "    # pull name from <h1>\n",
    "    h1_tag = soup.find('h1')\n",
    "    if h1_tag:\n",
    "        name_value = h1_tag.text.strip()\n",
    "    else:\n",
    "        continue  # I did this to skip this file if no name is found\n",
    "\n",
    "    # put names into 'names' table\n",
    "    cursor.execute(\"INSERT OR IGNORE INTO names (name) VALUES (?)\", (name_value,))\n",
    "    conn.commit()\n",
    "\n",
    "    # getting the name_id\n",
    "    cursor.execute(\"SELECT name_id FROM names WHERE name = ?\", (name_value,))\n",
    "    name_id = cursor.fetchone()[0]\n",
    "\n",
    "    # extract table\n",
    "    table = soup.find('table')\n",
    "    if not table:\n",
    "        continue\n",
    "\n",
    "    # extract data from table\n",
    "    for row in table.find_all('tr')[1:]:  # Skip header row\n",
    "        cols = [td.text.strip() for td in row.find_all('td')]\n",
    "        if len(cols) == 2:  # Ensure correct data format\n",
    "            category, favorite = cols\n",
    "            cursor.execute(\"INSERT INTO favorites (name_id, category, favorite) VALUES (?, ?, ?)\", \n",
    "                           (name_id, category, favorite))\n",
    "\n",
    "    conn.commit()\n",
    "\n",
    "cursor.execute(\"SELECT * FROM names\")\n",
    "names = cursor.fetchall()\n",
    "print(f\"\\nNames Table: {names}\")\n",
    "\n",
    "cursor.execute(\"SELECT * FROM favorites\")\n",
    "favorites = cursor.fetchall()\n",
    "print(f\"\\nFavorites Table: {favorites}\")\n",
    "\n",
    "conn.close()"
   ]
  },
  {
   "cell_type": "code",
   "execution_count": null,
   "id": "ab146283-6340-4f24-a7b8-dc440551ad97",
   "metadata": {},
   "outputs": [],
   "source": []
  }
 ],
 "metadata": {
  "kernelspec": {
   "display_name": "Python 3 (ipykernel)",
   "language": "python",
   "name": "python3"
  },
  "language_info": {
   "codemirror_mode": {
    "name": "ipython",
    "version": 3
   },
   "file_extension": ".py",
   "mimetype": "text/x-python",
   "name": "python",
   "nbconvert_exporter": "python",
   "pygments_lexer": "ipython3",
   "version": "3.10.9"
  }
 },
 "nbformat": 4,
 "nbformat_minor": 5
}
