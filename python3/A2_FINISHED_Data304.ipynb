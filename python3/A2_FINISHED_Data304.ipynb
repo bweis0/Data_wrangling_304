{
 "cells": [
  {
   "cell_type": "code",
   "execution_count": 4,
   "id": "4218c634-ad39-443f-bd20-d4b584ded3df",
   "metadata": {},
   "outputs": [
    {
     "name": "stdout",
     "output_type": "stream",
     "text": [
      "Number of sentences: 9\n",
      "Number of words: 88\n",
      "Number of unique words: 81\n",
      "hAppyCAts\n"
     ]
    }
   ],
   "source": [
    "with open(\"paragraph.txt\") as f:\n",
    "    text = f.read()\n",
    "\n",
    "# I am doing this to get the number of sentences by splitting it by a period.\n",
    "num_sentences = len([sentence for sentence in text.split('.') if sentence.strip()])\n",
    "\n",
    "print(f'Number of sentences: {num_sentences}') # 9 sentences\n",
    "\n",
    "# I did this to get rid of that annoying \"fancy\" A. When I tried to clean the data normally it was not getting picked up so I had to figure out how to use ASCII.\n",
    "clean_text = text.encode('ascii', 'ignore').decode()\n",
    "clean_text = ' '.join(clean_text.split())\n",
    "words = clean_text.split()\n",
    "\n",
    "print(f'Number of words: {len(words)}') # 88 words\n",
    "\n",
    "# Shows unique number of words.\n",
    "num_unique_words = len(set(words))\n",
    "\n",
    "print(f'Number of unique words: {num_unique_words}') # 81 Unique words\n",
    "\n",
    "# Hidden message\n",
    "index_points = [60, 26, 10, 10, 41, 35, 26, 44,48]\n",
    "message = \"\".join(words[i][0] for i in index_points)\n",
    "\n",
    "print(message) # Hidden message: \"hAppyCAts\""
   ]
  },
  {
   "cell_type": "code",
   "execution_count": null,
   "id": "73b02ef4-cb00-4b25-b9b7-6d826da890dc",
   "metadata": {},
   "outputs": [],
   "source": []
  },
  {
   "cell_type": "code",
   "execution_count": null,
   "id": "c4769bc0-662b-4ea1-8ff3-2eab5c3d794b",
   "metadata": {},
   "outputs": [],
   "source": []
  }
 ],
 "metadata": {
  "kernelspec": {
   "display_name": "Python 3 (ipykernel)",
   "language": "python",
   "name": "python3"
  },
  "language_info": {
   "codemirror_mode": {
    "name": "ipython",
    "version": 3
   },
   "file_extension": ".py",
   "mimetype": "text/x-python",
   "name": "python",
   "nbconvert_exporter": "python",
   "pygments_lexer": "ipython3",
   "version": "3.10.9"
  }
 },
 "nbformat": 4,
 "nbformat_minor": 5
}
