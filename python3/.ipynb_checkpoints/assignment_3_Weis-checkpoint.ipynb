{
 "cells": [
  {
   "cell_type": "code",
   "execution_count": 1,
   "id": "9dc0d06a-b620-4946-aa5b-696cf5221a86",
   "metadata": {},
   "outputs": [],
   "source": [
    "import os\n",
    "import sqlite3\n",
    "import pandas as pd\n",
    "from bs4 import BeautifulSoup\n",
    "import zipfile"
   ]
  },
  {
   "cell_type": "code",
   "execution_count": 2,
   "id": "3ad1230a-512a-4219-bdaa-6a531b76c4fc",
   "metadata": {},
   "outputs": [],
   "source": [
    "base_dir = r'C:\\Users\\Weis\\Desktop\\Courses\\ephy_data304\\data'"
   ]
  },
  {
   "cell_type": "code",
   "execution_count": 3,
   "id": "bdb4418c-990e-484f-8787-9d4125c53299",
   "metadata": {},
   "outputs": [],
   "source": [
    "zip_path = os.path.join(base_dir, 'assignment_1', 'raw', 'downloaded_class_submissions.zip')\n",
    "extracted_dir = os.path.join(base_dir, 'assignment_1', 'raw', 'downloaded_class_submissions')"
   ]
  },
  {
   "cell_type": "code",
   "execution_count": 4,
   "id": "7f353c2d-4a46-4d3d-9fb4-2e6b913e7e3c",
   "metadata": {},
   "outputs": [],
   "source": [
    "if not os.path.exists(extracted_dir):\n",
    "    with zipfile.ZipFile(zip_path, 'r') as zip_ref:\n",
    "        zip_ref.extractall(extracted_dir)"
   ]
  },
  {
   "cell_type": "code",
   "execution_count": 5,
   "id": "80e58032-daa3-48d5-b749-b9fa0cff1eae",
   "metadata": {},
   "outputs": [],
   "source": [
    "nested_folder = os.path.join(extracted_dir, 'downloaded_class_submissions')"
   ]
  },
  {
   "cell_type": "code",
   "execution_count": 6,
   "id": "76363502-1dd5-4534-b652-0ddcd70d28fa",
   "metadata": {},
   "outputs": [],
   "source": [
    "html_files = []\n",
    "for root, dirs, files in os.walk(nested_folder):\n",
    "    for file in files:\n",
    "        if file.endswith('.html'):\n",
    "            html_files.append(os.path.join(root, file))"
   ]
  },
  {
   "cell_type": "code",
   "execution_count": 7,
   "id": "f9a8dbdd-5b79-4c77-a259-369375779cea",
   "metadata": {},
   "outputs": [],
   "source": [
    "db_path = os.path.join(base_dir, 'assignment_3', 'altered', 'parsed_bios.sqlite')"
   ]
  },
  {
   "cell_type": "code",
   "execution_count": 8,
   "id": "8c64c233-aa34-46bc-aa42-7c3a94344f38",
   "metadata": {},
   "outputs": [
    {
     "data": {
      "text/plain": [
       "<sqlite3.Cursor at 0x1ecf4096bc0>"
      ]
     },
     "execution_count": 8,
     "metadata": {},
     "output_type": "execute_result"
    }
   ],
   "source": [
    "conn = sqlite3.connect(db_path)\n",
    "cursor = conn.cursor()\n",
    "\n",
    "cursor.execute('''CREATE TABLE IF NOT EXISTS names (name_id INTEGER PRIMARY KEY, name TEXT UNIQUE)''')\n",
    "cursor.execute('''CREATE TABLE IF NOT EXISTS favorites (favorite_id INTEGER PRIMARY KEY, name_id INTEGER, category TEXT, favorite TEXT, \n",
    "                  FOREIGN KEY(name_id) REFERENCES names(name_id), UNIQUE(name_id, category, favorite))''')\n",
    "\n",
    "# conn.commit()"
   ]
  },
  {
   "cell_type": "code",
   "execution_count": 9,
   "id": "f2e9c44c-7b11-4537-b042-4d38d3ce5ea4",
   "metadata": {},
   "outputs": [],
   "source": [
    "cursor.execute(\"DELETE FROM favorites\")\n",
    "conn.commit()"
   ]
  },
  {
   "cell_type": "code",
   "execution_count": 10,
   "id": "b4c8b634-9f26-48f0-9386-caa5b000da0c",
   "metadata": {},
   "outputs": [
    {
     "name": "stdout",
     "output_type": "stream",
     "text": [
      "\n",
      "Names Table: [(1, 'Abhi Purohit'), (2, 'Brady Sengkhounmany'), (3, 'Elias Brown'), (4, 'Greta Goss'), (5, 'Jay Naidu'), (6, 'Kebba Leigh'), (7, 'Mateo Marneau'), (8, 'Nathan Ebbs'), (9, 'Sage Gray'), (10, 'Vu Mai'), (11, 'Brandon Weis')]\n",
      "\n",
      "Favorites Table: [(1, 1, 'Ice Cream', 'Cookie Dough'), (2, 1, 'Artist', 'Travis Scott'), (3, 1, 'Pass time', 'Watching sports (basketball, football, cricket)'), (4, 2, 'Food', 'Sushi'), (5, 2, 'Sport', 'Baseball'), (6, 2, 'Hobby', 'Golf'), (7, 3, 'Ice Cream', 'Blue Raspberry'), (8, 3, 'Sport', 'Swimming'), (9, 3, 'Pass time', 'Gambling'), (10, 4, 'Ice Cream', 'Cookies and Cream'), (11, 4, 'Sport', 'Lifting'), (12, 4, 'Pass time', 'Baking'), (13, 5, 'Ice Cream', 'Cookie Dough'), (14, 5, 'Sport', 'Swimming'), (15, 5, 'Pass time', 'Golfing'), (16, 6, 'Ice Cream', 'Oreo'), (17, 6, 'Sport', 'Soccer'), (18, 6, 'Pass time', 'Reading'), (19, 7, 'Show', 'Ozark'), (20, 7, 'Sport', 'Golf'), (21, 7, 'Artist', 'Travis Scott'), (22, 8, 'Ice Cream', 'Butter Pecan'), (23, 8, 'Sport', 'Basketball'), (24, 8, 'Pass time', 'Hiking'), (25, 9, 'Ice Cream', 'Butterscotch'), (26, 9, 'Sport', 'Rock climbing'), (27, 9, 'Pass time', 'Board Games!'), (28, 10, 'Movie genre', 'Sciencetific/ Fiction'), (29, 10, 'Color', 'Black'), (30, 10, 'Cuisine', 'Japanese'), (31, 11, 'Ice Cream', 'Strawberry'), (32, 11, 'Sport', 'Football'), (33, 11, 'Pass time', 'Games')]\n"
     ]
    }
   ],
   "source": [
    "for file_name in html_files:\n",
    "    html_path = os.path.join(extracted_dir, file_name)\n",
    "\n",
    "    # Read HTML\n",
    "    with open(html_path, 'r', encoding='utf-8') as html_file:\n",
    "        html_content = html_file.read()\n",
    "\n",
    "    # Parse HTML\n",
    "    soup = BeautifulSoup(html_content, 'html.parser')\n",
    "\n",
    "    # Extract name from <h1>\n",
    "    h1_tag = soup.find('h1')\n",
    "    if h1_tag:\n",
    "        name_value = h1_tag.text.strip()\n",
    "    else:\n",
    "        continue  # Skip file if no name found\n",
    "\n",
    "    # Insert name into 'names' table if not already present\n",
    "    cursor.execute(\"INSERT OR IGNORE INTO names (name) VALUES (?)\", (name_value,))\n",
    "\n",
    "    # Retrieve name_id for the current name\n",
    "    cursor.execute(\"SELECT name_id FROM names WHERE name = ?\", (name_value,))\n",
    "    name_id = cursor.fetchone()[0]\n",
    "\n",
    "    # Extract table\n",
    "    table = soup.find('table')\n",
    "    if not table:\n",
    "        continue\n",
    "\n",
    "    # Extract data from table\n",
    "    for row in table.find_all('tr')[1:]:  # Skip header row\n",
    "        cols = [td.text.strip() for td in row.find_all('td')]\n",
    "        if len(cols) == 2:  # Ensure correct data format\n",
    "            category, favorite = cols\n",
    "\n",
    "            # Check if this combination already exists in the favorites table\n",
    "            cursor.execute('''SELECT COUNT(*) FROM favorites \n",
    "                              WHERE name_id = ? AND category = ? AND favorite = ?''', \n",
    "                           (name_id, category, favorite))\n",
    "            count = cursor.fetchone()[0]\n",
    "\n",
    "            # If the combination doesn't exist, insert it\n",
    "            if count == 0:\n",
    "                cursor.execute('''INSERT INTO favorites (name_id, category, favorite)\n",
    "                                  VALUES (?, ?, ?)''', (name_id, category, favorite))\n",
    "\n",
    "    # Commit all changes after processing the file\n",
    "    conn.commit()\n",
    "\n",
    "# Final commit after all files are processed (if necessary)\n",
    "conn.commit()\n",
    "\n",
    "cursor.execute(\"SELECT * FROM names\")\n",
    "names = cursor.fetchall()\n",
    "print(f\"\\nNames Table: {names}\")\n",
    "\n",
    "cursor.execute(\"SELECT * FROM favorites\")\n",
    "favorites = cursor.fetchall()\n",
    "print(f\"\\nFavorites Table: {favorites}\")\n",
    "\n",
    "conn.close()"
   ]
  },
  {
   "cell_type": "code",
   "execution_count": 11,
   "id": "ab146283-6340-4f24-a7b8-dc440551ad97",
   "metadata": {},
   "outputs": [],
   "source": [
    "source_path = os.path.join(base_dir, 'assignment_3', 'altered', 'parsed_bios.sqlite')\n",
    "destination_path = r'C:\\Users\\Weis\\Desktop\\Courses\\Data_wrangling_304\\data\\assignment_3\\altered\\parsed_bios.sqlite'"
   ]
  },
  {
   "cell_type": "code",
   "execution_count": null,
   "id": "6253d99d-d303-41e6-9311-910922dd8910",
   "metadata": {},
   "outputs": [],
   "source": []
  }
 ],
 "metadata": {
  "kernelspec": {
   "display_name": "Python 3 (ipykernel)",
   "language": "python",
   "name": "python3"
  },
  "language_info": {
   "codemirror_mode": {
    "name": "ipython",
    "version": 3
   },
   "file_extension": ".py",
   "mimetype": "text/x-python",
   "name": "python",
   "nbconvert_exporter": "python",
   "pygments_lexer": "ipython3",
   "version": "3.10.9"
  }
 },
 "nbformat": 4,
 "nbformat_minor": 5
}
