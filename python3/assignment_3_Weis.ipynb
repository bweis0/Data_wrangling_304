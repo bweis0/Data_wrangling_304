{
 "cells": [
  {
   "cell_type": "code",
   "execution_count": 16,
   "id": "9dc0d06a-b620-4946-aa5b-696cf5221a86",
   "metadata": {},
   "outputs": [],
   "source": [
    "import os\n",
    "import sqlite3\n",
    "import pandas as pd\n",
    "from bs4 import BeautifulSoup\n",
    "import zipfile"
   ]
  },
  {
   "cell_type": "code",
   "execution_count": 17,
   "id": "3ad1230a-512a-4219-bdaa-6a531b76c4fc",
   "metadata": {},
   "outputs": [],
   "source": [
    "base_dir = r'C:\\Users\\Weis\\Desktop\\Courses\\ephy_data304\\data'"
   ]
  },
  {
   "cell_type": "code",
   "execution_count": 18,
   "id": "bdb4418c-990e-484f-8787-9d4125c53299",
   "metadata": {},
   "outputs": [],
   "source": [
    "zip_path = os.path.join(base_dir, 'assignment_1', 'raw', 'downloaded_class_submissions.zip')\n",
    "extracted_dir = os.path.join(base_dir, 'assignment_1', 'raw', 'downloaded_class_submissions')"
   ]
  },
  {
   "cell_type": "code",
   "execution_count": 19,
   "id": "7f353c2d-4a46-4d3d-9fb4-2e6b913e7e3c",
   "metadata": {},
   "outputs": [],
   "source": [
    "if not os.path.exists(extracted_dir):\n",
    "    with zipfile.ZipFile(zip_path, 'r') as zip_ref:\n",
    "        zip_ref.extractall(extracted_dir)"
   ]
  },
  {
   "cell_type": "code",
   "execution_count": null,
   "id": "80e58032-daa3-48d5-b749-b9fa0cff1eae",
   "metadata": {},
   "outputs": [],
   "source": [
    "nested_folder = os.path.join(extracted_dir, 'downloaded_class_submissions')"
   ]
  },
  {
   "cell_type": "code",
   "execution_count": null,
   "id": "76363502-1dd5-4534-b652-0ddcd70d28fa",
   "metadata": {},
   "outputs": [],
   "source": [
    "html_files = []\n",
    "for root, dirs, files in os.walk(nested_folder):\n",
    "    for file in files:\n",
    "        if file.endswith('.html'):\n",
    "            html_files.append(os.path.join(root, file))"
   ]
  },
  {
   "cell_type": "code",
   "execution_count": null,
   "id": "f9a8dbdd-5b79-4c77-a259-369375779cea",
   "metadata": {},
   "outputs": [],
   "source": [
    "db_path = os.path.join(base_dir, 'assignment_3', 'altered', 'parsed_bios.sqlite')"
   ]
  },
  {
   "cell_type": "code",
   "execution_count": null,
   "id": "8c64c233-aa34-46bc-aa42-7c3a94344f38",
   "metadata": {},
   "outputs": [],
   "source": [
    "conn = sqlite3.connect(db_path)\n",
    "cursor = conn.cursor()\n",
    "\n",
    "cursor.execute('''CREATE TABLE IF NOT EXISTS names (name_id INTEGER PRIMARY KEY, name TEXT UNIQUE)''')\n",
    "cursor.execute('''CREATE TABLE IF NOT EXISTS favorites (favorite_id INTEGER PRIMARY KEY, name_id INTEGER, category TEXT, favorite TEXT, \n",
    "                  FOREIGN KEY(name_id) REFERENCES names(name_id), UNIQUE(name_id, category, favorite))''')\n",
    "\n",
    "# conn.commit()"
   ]
  },
  {
   "cell_type": "code",
   "execution_count": 9,
   "id": "f2e9c44c-7b11-4537-b042-4d38d3ce5ea4",
   "metadata": {},
   "outputs": [],
   "source": [
    "cursor.execute(\"DELETE FROM favorites\")\n",
    "conn.commit()"
   ]
  },
  {
   "cell_type": "code",
   "execution_count": 15,
   "id": "b4c8b634-9f26-48f0-9386-caa5b000da0c",
   "metadata": {},
   "outputs": [
    {
     "ename": "ProgrammingError",
     "evalue": "Cannot operate on a closed database.",
     "output_type": "error",
     "traceback": [
      "\u001b[1;31m---------------------------------------------------------------------------\u001b[0m",
      "\u001b[1;31mProgrammingError\u001b[0m                          Traceback (most recent call last)",
      "Cell \u001b[1;32mIn[15], line 19\u001b[0m\n\u001b[0;32m     16\u001b[0m     \u001b[38;5;28;01mcontinue\u001b[39;00m  \u001b[38;5;66;03m# Skip file if no name found\u001b[39;00m\n\u001b[0;32m     18\u001b[0m \u001b[38;5;66;03m# Insert name into 'names' table if not already present\u001b[39;00m\n\u001b[1;32m---> 19\u001b[0m \u001b[43mcursor\u001b[49m\u001b[38;5;241;43m.\u001b[39;49m\u001b[43mexecute\u001b[49m\u001b[43m(\u001b[49m\u001b[38;5;124;43m\"\u001b[39;49m\u001b[38;5;124;43mINSERT OR IGNORE INTO names (name) VALUES (?)\u001b[39;49m\u001b[38;5;124;43m\"\u001b[39;49m\u001b[43m,\u001b[49m\u001b[43m \u001b[49m\u001b[43m(\u001b[49m\u001b[43mname_value\u001b[49m\u001b[43m,\u001b[49m\u001b[43m)\u001b[49m\u001b[43m)\u001b[49m\n\u001b[0;32m     21\u001b[0m \u001b[38;5;66;03m# Retrieve name_id for the current name\u001b[39;00m\n\u001b[0;32m     22\u001b[0m cursor\u001b[38;5;241m.\u001b[39mexecute(\u001b[38;5;124m\"\u001b[39m\u001b[38;5;124mSELECT name_id FROM names WHERE name = ?\u001b[39m\u001b[38;5;124m\"\u001b[39m, (name_value,))\n",
      "\u001b[1;31mProgrammingError\u001b[0m: Cannot operate on a closed database."
     ]
    }
   ],
   "source": [
    "for file_name in html_files:\n",
    "    html_path = os.path.join(extracted_dir, file_name)\n",
    "\n",
    "    # Read HTML\n",
    "    with open(html_path, 'r', encoding='utf-8') as html_file:\n",
    "        html_content = html_file.read()\n",
    "\n",
    "    # Parse HTML\n",
    "    soup = BeautifulSoup(html_content, 'html.parser')\n",
    "\n",
    "    # Extract name from <h1>\n",
    "    h1_tag = soup.find('h1')\n",
    "    if h1_tag:\n",
    "        name_value = h1_tag.text.strip()\n",
    "    else:\n",
    "        continue  # Skip file if no name found\n",
    "\n",
    "    # Insert name into 'names' table if not already present\n",
    "    cursor.execute(\"INSERT OR IGNORE INTO names (name) VALUES (?)\", (name_value,))\n",
    "\n",
    "    # Retrieve name_id for the current name\n",
    "    cursor.execute(\"SELECT name_id FROM names WHERE name = ?\", (name_value,))\n",
    "    name_id = cursor.fetchone()[0]\n",
    "\n",
    "    # Extract table\n",
    "    table = soup.find('table')\n",
    "    if not table:\n",
    "        continue\n",
    "\n",
    "    # Extract data from table\n",
    "    for row in table.find_all('tr')[1:]:  # Skip header row\n",
    "        cols = [td.text.strip() for td in row.find_all('td')]\n",
    "        if len(cols) == 2:  # Ensure correct data format\n",
    "            category, favorite = cols\n",
    "\n",
    "            # Check if this combination already exists in the favorites table\n",
    "            cursor.execute('''SELECT COUNT(*) FROM favorites \n",
    "                              WHERE name_id = ? AND category = ? AND favorite = ?''', \n",
    "                           (name_id, category, favorite))\n",
    "            count = cursor.fetchone()[0]\n",
    "\n",
    "            # If the combination doesn't exist, insert it\n",
    "            if count == 0:\n",
    "                cursor.execute('''INSERT INTO favorites (name_id, category, favorite)\n",
    "                                  VALUES (?, ?, ?)''', (name_id, category, favorite))\n",
    "\n",
    "    # Commit all changes after processing the file\n",
    "    conn.commit()\n",
    "\n",
    "# Final commit after all files are processed (if necessary)\n",
    "conn.commit()\n",
    "\n",
    "cursor.execute(\"SELECT * FROM names\")\n",
    "names = cursor.fetchall()\n",
    "print(f\"\\nNames Table: {names}\")\n",
    "\n",
    "cursor.execute(\"SELECT * FROM favorites\")\n",
    "favorites = cursor.fetchall()\n",
    "print(f\"\\nFavorites Table: {favorites}\")\n",
    "\n",
    "conn.close()"
   ]
  },
  {
   "cell_type": "code",
   "execution_count": null,
   "id": "6253d99d-d303-41e6-9311-910922dd8910",
   "metadata": {},
   "outputs": [],
   "source": []
  },
  {
   "cell_type": "code",
   "execution_count": null,
   "id": "5f3405f7-8d48-4072-996e-abb4821572ec",
   "metadata": {},
   "outputs": [],
   "source": []
  }
 ],
 "metadata": {
  "kernelspec": {
   "display_name": "Python 3 (ipykernel)",
   "language": "python",
   "name": "python3"
  },
  "language_info": {
   "codemirror_mode": {
    "name": "ipython",
    "version": 3
   },
   "file_extension": ".py",
   "mimetype": "text/x-python",
   "name": "python",
   "nbconvert_exporter": "python",
   "pygments_lexer": "ipython3",
   "version": "3.10.9"
  }
 },
 "nbformat": 4,
 "nbformat_minor": 5
}
